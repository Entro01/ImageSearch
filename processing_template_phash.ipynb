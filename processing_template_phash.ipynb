{
 "cells": [
  {
   "cell_type": "code",
   "execution_count": 1,
   "id": "b549b603",
   "metadata": {
    "scrolled": true
   },
   "outputs": [
    {
     "name": "stdout",
     "output_type": "stream",
     "text": [
      "Collecting imagehash\n",
      "  Downloading ImageHash-4.3.1-py2.py3-none-any.whl.metadata (8.0 kB)\n",
      "Requirement already satisfied: PyWavelets in /home/ec2-user/anaconda3/envs/python3/lib/python3.10/site-packages (from imagehash) (1.6.0)\n",
      "Requirement already satisfied: numpy in /home/ec2-user/anaconda3/envs/python3/lib/python3.10/site-packages (from imagehash) (1.22.4)\n",
      "Requirement already satisfied: pillow in /home/ec2-user/anaconda3/envs/python3/lib/python3.10/site-packages (from imagehash) (10.4.0)\n",
      "Requirement already satisfied: scipy in /home/ec2-user/anaconda3/envs/python3/lib/python3.10/site-packages (from imagehash) (1.14.0)\n",
      "Collecting numpy (from imagehash)\n",
      "  Downloading numpy-2.1.0-cp310-cp310-manylinux_2_17_x86_64.manylinux2014_x86_64.whl.metadata (60 kB)\n",
      "\u001b[2K     \u001b[90m━━━━━━━━━━━━━━━━━━━━━━━━━━━━━━━━━━━━━━━━\u001b[0m \u001b[32m60.9/60.9 kB\u001b[0m \u001b[31m9.8 MB/s\u001b[0m eta \u001b[36m0:00:00\u001b[0m\n",
      "\u001b[?25hDownloading ImageHash-4.3.1-py2.py3-none-any.whl (296 kB)\n",
      "\u001b[2K   \u001b[90m━━━━━━━━━━━━━━━━━━━━━━━━━━━━━━━━━━━━━━━━\u001b[0m \u001b[32m296.5/296.5 kB\u001b[0m \u001b[31m28.5 MB/s\u001b[0m eta \u001b[36m0:00:00\u001b[0m\n",
      "\u001b[?25hDownloading numpy-2.1.0-cp310-cp310-manylinux_2_17_x86_64.manylinux2014_x86_64.whl (16.3 MB)\n",
      "\u001b[2K   \u001b[90m━━━━━━━━━━━━━━━━━━━━━━━━━━━━━━━━━━━━━━━━\u001b[0m \u001b[32m16.3/16.3 MB\u001b[0m \u001b[31m77.9 MB/s\u001b[0m eta \u001b[36m0:00:00\u001b[0m:00:01\u001b[0m00:01\u001b[0m\n",
      "\u001b[?25hInstalling collected packages: numpy, imagehash\n",
      "  Attempting uninstall: numpy\n",
      "    Found existing installation: numpy 1.22.4\n",
      "    Uninstalling numpy-1.22.4:\n",
      "      Successfully uninstalled numpy-1.22.4\n",
      "\u001b[31mERROR: pip's dependency resolver does not currently take into account all the packages that are installed. This behaviour is the source of the following dependency conflicts.\n",
      "mkl-fft 1.3.10 requires mkl, which is not installed.\n",
      "hdijupyterutils 0.21.0 requires pandas<2.0.0,>=0.17.1, but you have pandas 2.2.2 which is incompatible.\n",
      "numba 0.60.0 requires numpy<2.1,>=1.22, but you have numpy 2.1.0 which is incompatible.\n",
      "sagemaker 2.229.0 requires numpy<2.0,>=1.9.0, but you have numpy 2.1.0 which is incompatible.\n",
      "sparkmagic 0.21.0 requires pandas<2.0.0,>=0.17.1, but you have pandas 2.2.2 which is incompatible.\u001b[0m\u001b[31m\n",
      "\u001b[0mSuccessfully installed imagehash-4.3.1 numpy-2.1.0\n"
     ]
    }
   ],
   "source": [
    "!pip install imagehash"
   ]
  },
  {
   "cell_type": "code",
   "execution_count": 7,
   "id": "10f7de88",
   "metadata": {},
   "outputs": [
    {
     "data": {
      "application/vnd.jupyter.widget-view+json": {
       "model_id": "257160f80c6f4892984a78298e583881",
       "version_major": 2,
       "version_minor": 0
      },
      "text/plain": [
       "Processing Images:   0%|          | 0/100 [00:00<?, ?it/s]"
      ]
     },
     "metadata": {},
     "output_type": "display_data"
    },
    {
     "name": "stderr",
     "output_type": "stream",
     "text": [
      "\n",
      "  0%|          | 0/100 [00:00<?, ?it/s]\u001b[A\n",
      "  1%|          | 1/100 [00:15<25:45, 15.61s/it]\u001b[A\n",
      " 62%|██████▏   | 62/100 [00:16<00:07,  5.30it/s]\u001b[A\n",
      " 86%|████████▌ | 86/100 [00:16<00:01,  8.07it/s]\u001b[A\n",
      "100%|██████████| 100/100 [00:17<00:00,  5.88it/s][A\n"
     ]
    }
   ],
   "source": [
    "import pandas as pd\n",
    "import imagehash\n",
    "from PIL import Image\n",
    "import aiohttp\n",
    "import asyncio\n",
    "from io import BytesIO\n",
    "from tqdm.asyncio import tqdm as async_tqdm\n",
    "from tqdm.notebook import tqdm\n",
    "import gc\n",
    "import random\n",
    "from collections import defaultdict\n",
    "import itertools\n",
    "\n",
    "# reading the csv containing the image data\n",
    "df = pd.read_csv('image_data.csv')\n",
    "df = df.dropna(subset=['small_image'])\n",
    "\n",
    "# Randomly select 100 images\n",
    "sample_size = 100\n",
    "sample_df = df.sample(n=sample_size, random_state=42)\n",
    "\n",
    "base_url = \"https://d1it09c4puycyh.cloudfront.net\"\n",
    "resolutions = [\"83x110\", \"128x128\", \"355x503\", \"500x500\", \"1000x1000\", \"920x1300\"]\n",
    "\n",
    "async def fetch_image(session, url):\n",
    "    async with session.get(url) as response:\n",
    "        if response.status == 200:\n",
    "            img_data = await response.read()\n",
    "            return Image.open(BytesIO(img_data)).convert('RGB')\n",
    "        else:\n",
    "            raise IOError(f\"Failed to fetch image from {url}, status code: {response.status}\")\n",
    "\n",
    "def calculate_phash(img):\n",
    "    # Determine the longer side\n",
    "    long_side = max(img.size)\n",
    "    # Calculate the ratio to resize to 512 on the longer side\n",
    "    ratio = 512 / long_side\n",
    "    # Calculate new dimensions maintaining aspect ratio\n",
    "    new_size = (int(img.size[0] * ratio), int(img.size[1] * ratio))\n",
    "    # Resize the image maintaining aspect ratio\n",
    "    img = img.resize(new_size, Image.Resampling.LANCZOS)\n",
    "    \n",
    "    # Create a new 512x512 white image\n",
    "    new_img = Image.new('RGB', (512, 512), (255, 255, 255))\n",
    "    # Calculate position to paste the resized image\n",
    "    paste_pos = ((512 - new_size[0]) // 2, (512 - new_size[1]) // 2)\n",
    "    # Paste the resized image onto the white canvas\n",
    "    new_img.paste(img, paste_pos)\n",
    "    \n",
    "    # Calculate perceptual hash\n",
    "    return imagehash.phash(new_img)\n",
    "\n",
    "async def process_image(session, row, pbar):\n",
    "    results = {}\n",
    "    for resolution in resolutions:\n",
    "        image_url = f\"{base_url}/{resolution}/catalog/product{row['small_image'].strip()}\"\n",
    "        try:\n",
    "            img = await fetch_image(session, image_url)\n",
    "            phash = calculate_phash(img)\n",
    "            results[resolution] = str(phash)\n",
    "        except Exception as e:\n",
    "            print(f\"Failed to process image at {image_url}: {e}\")\n",
    "            results[resolution] = None\n",
    "    pbar.update(1)\n",
    "    return results\n",
    "\n",
    "async def process_sample():\n",
    "    async with aiohttp.ClientSession() as session:\n",
    "        pbar = tqdm(total=len(sample_df), desc=\"Processing Images\")\n",
    "        tasks = [process_image(session, row, pbar) for _, row in sample_df.iterrows()]\n",
    "        results = await async_tqdm.gather(*tasks)\n",
    "        pbar.close()\n",
    "    return results\n",
    "\n",
    "# Run the async function\n",
    "results = await process_sample()"
   ]
  },
  {
   "cell_type": "code",
   "execution_count": 8,
   "id": "56eb3752",
   "metadata": {},
   "outputs": [
    {
     "data": {
      "application/vnd.jupyter.widget-view+json": {
       "model_id": "ede0ba57a5464ab59a2888ec43fa1f49",
       "version_major": 2,
       "version_minor": 0
      },
      "text/plain": [
       "Analyzing Results:   0%|          | 0/100 [00:00<?, ?it/s]"
      ]
     },
     "metadata": {},
     "output_type": "display_data"
    },
    {
     "name": "stdout",
     "output_type": "stream",
     "text": [
      "resolution2  1000x1000   128x128   355x503   500x500    83x110  920x1300\n",
      "resolution1                                                             \n",
      "1000x1000     1.000000  0.982812  0.609062  0.992188  0.649375  0.610938\n",
      "128x128       0.982812  1.000000  0.606250  0.983437  0.646563  0.607812\n",
      "355x503       0.609062  0.606250  1.000000  0.610938  0.896875  0.982500\n",
      "500x500       0.992188  0.983437  0.610938  1.000000  0.651563  0.612812\n",
      "83x110        0.649375  0.646563  0.896875  0.651563  1.000000  0.904062\n",
      "920x1300      0.610938  0.607812  0.982500  0.612812  0.904062  1.000000\n"
     ]
    }
   ],
   "source": [
    "# Analyze results\n",
    "similarity_data = []\n",
    "for i, result in tqdm(enumerate(results), total=len(results), desc=\"Analyzing Results\"):\n",
    "    for res1 in resolutions:\n",
    "        for res2 in resolutions:\n",
    "            if result[res1] and result[res2]:\n",
    "                hash1 = imagehash.hex_to_hash(result[res1])\n",
    "                hash2 = imagehash.hex_to_hash(result[res2])\n",
    "                similarity = 1 - (hash1 - hash2) / 64.0  # 64 bits in the hash\n",
    "                similarity_data.append({\n",
    "                    'image_index': i,\n",
    "                    'resolution1': res1,\n",
    "                    'resolution2': res2,\n",
    "                    'similarity': similarity\n",
    "                })\n",
    "\n",
    "similarity_df = pd.DataFrame(similarity_data)\n",
    "\n",
    "# Create a pivot table for easier visualization of the comparison matrix\n",
    "pivot_df = similarity_df.pivot_table(values='similarity', \n",
    "                                     index='resolution1', \n",
    "                                     columns='resolution2', \n",
    "                                     aggfunc='mean')\n",
    "\n",
    "# Print the comparison matrix\n",
    "print(pivot_df)\n",
    "\n",
    "# Optionally, save results to CSV\n",
    "similarity_df.to_csv('hash_similarity_results_detailed.csv', index=False)\n",
    "pivot_df.to_csv('hash_similarity_results_matrix.csv')"
   ]
  },
  {
   "cell_type": "code",
   "execution_count": null,
   "id": "ccd8b64e",
   "metadata": {},
   "outputs": [],
   "source": []
  }
 ],
 "metadata": {
  "kernelspec": {
   "display_name": "conda_python3",
   "language": "python",
   "name": "conda_python3"
  },
  "language_info": {
   "codemirror_mode": {
    "name": "ipython",
    "version": 3
   },
   "file_extension": ".py",
   "mimetype": "text/x-python",
   "name": "python",
   "nbconvert_exporter": "python",
   "pygments_lexer": "ipython3",
   "version": "3.10.14"
  }
 },
 "nbformat": 4,
 "nbformat_minor": 5
}
